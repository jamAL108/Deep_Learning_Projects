{
 "cells": [
  {
   "cell_type": "code",
   "execution_count": 40,
   "id": "49b6120f",
   "metadata": {},
   "outputs": [],
   "source": [
    "import tensorflow as tf\n",
    "from tensorflow  import keras\n",
    "import matplotlib.pyplot as plt\n",
    "import numpy as np\n",
    "import os\n",
    "from PIL import Image"
   ]
  },
  {
   "cell_type": "code",
   "execution_count": 2,
   "id": "20309452",
   "metadata": {},
   "outputs": [],
   "source": [
    "(X_train , y_train) , (X_test , y_test) = keras.datasets.mnist.load_data()"
   ]
  },
  {
   "cell_type": "code",
   "execution_count": 3,
   "id": "57a3c272",
   "metadata": {},
   "outputs": [
    {
     "data": {
      "text/plain": [
       "(60000, 28, 28)"
      ]
     },
     "execution_count": 3,
     "metadata": {},
     "output_type": "execute_result"
    }
   ],
   "source": [
    "X_train.shape"
   ]
  },
  {
   "cell_type": "code",
   "execution_count": 4,
   "id": "8b78ad60",
   "metadata": {},
   "outputs": [
    {
     "data": {
      "text/plain": [
       "60000"
      ]
     },
     "execution_count": 4,
     "metadata": {},
     "output_type": "execute_result"
    }
   ],
   "source": [
    "len(X_train)"
   ]
  },
  {
   "cell_type": "code",
   "execution_count": 5,
   "id": "70839ef7",
   "metadata": {},
   "outputs": [
    {
     "data": {
      "text/plain": [
       "array([[  0,   0,   0,   0,   0,   0,   0,   0,   0,   0,   0,   0,   0,\n",
       "          0,   0,   0,   0,   0,   0,   0,   0,   0,   0,   0,   0,   0,\n",
       "          0,   0],\n",
       "       [  0,   0,   0,   0,   0,   0,   0,   0,   0,   0,   0,   0,   0,\n",
       "          0,   0,   0,   0,   0,   0,   0,   0,   0,   0,   0,   0,   0,\n",
       "          0,   0],\n",
       "       [  0,   0,   0,   0,   0,   0,   0,   0,   0,   0,   0,   0,   0,\n",
       "          0,   0,   0,   0,   0,   0,   0,   0,   0,   0,   0,   0,   0,\n",
       "          0,   0],\n",
       "       [  0,   0,   0,   0,   0,   0,   0,   0,   0,   0,   0,   0,   0,\n",
       "          0,   0,   0,   0,   0,   0,   0,   0,   0,   0,   0,   0,   0,\n",
       "          0,   0],\n",
       "       [  0,   0,   0,   0,   0,   0,   0,   0,   0,   0,   0,   0,   0,\n",
       "          0,   0,   0,   0,   0,   0,   0,   0,   0,   0,   0,   0,   0,\n",
       "          0,   0],\n",
       "       [  0,   0,   0,   0,   0,   0,   0,   0,   0,   0,   0,   0,   3,\n",
       "         18,  18,  18, 126, 136, 175,  26, 166, 255, 247, 127,   0,   0,\n",
       "          0,   0],\n",
       "       [  0,   0,   0,   0,   0,   0,   0,   0,  30,  36,  94, 154, 170,\n",
       "        253, 253, 253, 253, 253, 225, 172, 253, 242, 195,  64,   0,   0,\n",
       "          0,   0],\n",
       "       [  0,   0,   0,   0,   0,   0,   0,  49, 238, 253, 253, 253, 253,\n",
       "        253, 253, 253, 253, 251,  93,  82,  82,  56,  39,   0,   0,   0,\n",
       "          0,   0],\n",
       "       [  0,   0,   0,   0,   0,   0,   0,  18, 219, 253, 253, 253, 253,\n",
       "        253, 198, 182, 247, 241,   0,   0,   0,   0,   0,   0,   0,   0,\n",
       "          0,   0],\n",
       "       [  0,   0,   0,   0,   0,   0,   0,   0,  80, 156, 107, 253, 253,\n",
       "        205,  11,   0,  43, 154,   0,   0,   0,   0,   0,   0,   0,   0,\n",
       "          0,   0],\n",
       "       [  0,   0,   0,   0,   0,   0,   0,   0,   0,  14,   1, 154, 253,\n",
       "         90,   0,   0,   0,   0,   0,   0,   0,   0,   0,   0,   0,   0,\n",
       "          0,   0],\n",
       "       [  0,   0,   0,   0,   0,   0,   0,   0,   0,   0,   0, 139, 253,\n",
       "        190,   2,   0,   0,   0,   0,   0,   0,   0,   0,   0,   0,   0,\n",
       "          0,   0],\n",
       "       [  0,   0,   0,   0,   0,   0,   0,   0,   0,   0,   0,  11, 190,\n",
       "        253,  70,   0,   0,   0,   0,   0,   0,   0,   0,   0,   0,   0,\n",
       "          0,   0],\n",
       "       [  0,   0,   0,   0,   0,   0,   0,   0,   0,   0,   0,   0,  35,\n",
       "        241, 225, 160, 108,   1,   0,   0,   0,   0,   0,   0,   0,   0,\n",
       "          0,   0],\n",
       "       [  0,   0,   0,   0,   0,   0,   0,   0,   0,   0,   0,   0,   0,\n",
       "         81, 240, 253, 253, 119,  25,   0,   0,   0,   0,   0,   0,   0,\n",
       "          0,   0],\n",
       "       [  0,   0,   0,   0,   0,   0,   0,   0,   0,   0,   0,   0,   0,\n",
       "          0,  45, 186, 253, 253, 150,  27,   0,   0,   0,   0,   0,   0,\n",
       "          0,   0],\n",
       "       [  0,   0,   0,   0,   0,   0,   0,   0,   0,   0,   0,   0,   0,\n",
       "          0,   0,  16,  93, 252, 253, 187,   0,   0,   0,   0,   0,   0,\n",
       "          0,   0],\n",
       "       [  0,   0,   0,   0,   0,   0,   0,   0,   0,   0,   0,   0,   0,\n",
       "          0,   0,   0,   0, 249, 253, 249,  64,   0,   0,   0,   0,   0,\n",
       "          0,   0],\n",
       "       [  0,   0,   0,   0,   0,   0,   0,   0,   0,   0,   0,   0,   0,\n",
       "          0,  46, 130, 183, 253, 253, 207,   2,   0,   0,   0,   0,   0,\n",
       "          0,   0],\n",
       "       [  0,   0,   0,   0,   0,   0,   0,   0,   0,   0,   0,   0,  39,\n",
       "        148, 229, 253, 253, 253, 250, 182,   0,   0,   0,   0,   0,   0,\n",
       "          0,   0],\n",
       "       [  0,   0,   0,   0,   0,   0,   0,   0,   0,   0,  24, 114, 221,\n",
       "        253, 253, 253, 253, 201,  78,   0,   0,   0,   0,   0,   0,   0,\n",
       "          0,   0],\n",
       "       [  0,   0,   0,   0,   0,   0,   0,   0,  23,  66, 213, 253, 253,\n",
       "        253, 253, 198,  81,   2,   0,   0,   0,   0,   0,   0,   0,   0,\n",
       "          0,   0],\n",
       "       [  0,   0,   0,   0,   0,   0,  18, 171, 219, 253, 253, 253, 253,\n",
       "        195,  80,   9,   0,   0,   0,   0,   0,   0,   0,   0,   0,   0,\n",
       "          0,   0],\n",
       "       [  0,   0,   0,   0,  55, 172, 226, 253, 253, 253, 253, 244, 133,\n",
       "         11,   0,   0,   0,   0,   0,   0,   0,   0,   0,   0,   0,   0,\n",
       "          0,   0],\n",
       "       [  0,   0,   0,   0, 136, 253, 253, 253, 212, 135, 132,  16,   0,\n",
       "          0,   0,   0,   0,   0,   0,   0,   0,   0,   0,   0,   0,   0,\n",
       "          0,   0],\n",
       "       [  0,   0,   0,   0,   0,   0,   0,   0,   0,   0,   0,   0,   0,\n",
       "          0,   0,   0,   0,   0,   0,   0,   0,   0,   0,   0,   0,   0,\n",
       "          0,   0],\n",
       "       [  0,   0,   0,   0,   0,   0,   0,   0,   0,   0,   0,   0,   0,\n",
       "          0,   0,   0,   0,   0,   0,   0,   0,   0,   0,   0,   0,   0,\n",
       "          0,   0],\n",
       "       [  0,   0,   0,   0,   0,   0,   0,   0,   0,   0,   0,   0,   0,\n",
       "          0,   0,   0,   0,   0,   0,   0,   0,   0,   0,   0,   0,   0,\n",
       "          0,   0]], dtype=uint8)"
      ]
     },
     "execution_count": 5,
     "metadata": {},
     "output_type": "execute_result"
    }
   ],
   "source": [
    "X_train[0]"
   ]
  },
  {
   "cell_type": "code",
   "execution_count": 6,
   "id": "823215d8",
   "metadata": {},
   "outputs": [
    {
     "data": {
      "text/plain": [
       "<matplotlib.image.AxesImage at 0x2d9640c42e0>"
      ]
     },
     "execution_count": 6,
     "metadata": {},
     "output_type": "execute_result"
    },
    {
     "data": {
      "text/plain": [
       "<Figure size 200x200 with 0 Axes>"
      ]
     },
     "metadata": {},
     "output_type": "display_data"
    },
    {
     "data": {
      "image/png": "[encoded data removed]",
      "text/plain": [
       "<Figure size 480x480 with 1 Axes>"
      ]
     },
     "metadata": {},
     "output_type": "display_data"
    }
   ],
   "source": [
    "plt.figure(figsize=(2,2))\n",
    "plt.matshow(X_train[5])"
   ]
  },
  {
   "cell_type": "code",
   "execution_count": 7,
   "id": "8faf94c3",
   "metadata": {},
   "outputs": [],
   "source": [
    "X_train = X_train/255\n",
    "X_test = X_test/255"
   ]
  },
  {
   "cell_type": "code",
   "execution_count": 8,
   "id": "4a5b9b2e",
   "metadata": {},
   "outputs": [
    {
     "name": "stdout",
     "output_type": "stream",
     "text": [
      "(10000, 784)\n",
      "(60000, 784)\n"
     ]
    }
   ],
   "source": [
    "X_train_flattened = X_train.reshape(len(X_train),28*28)\n",
    "X_test_flattened = X_test.reshape(len(X_test),28*28)\n",
    "print(X_test_flattened.shape)\n",
    "print(X_train_flattened.shape)"
   ]
  },
  {
   "cell_type": "code",
   "execution_count": 9,
   "id": "830dd648",
   "metadata": {},
   "outputs": [
    {
     "name": "stdout",
     "output_type": "stream",
     "text": [
      "hey\n"
     ]
    }
   ],
   "source": [
    "print(\"hey\")"
   ]
  },
  {
   "cell_type": "code",
   "execution_count": 27,
   "id": "6dfeb454",
   "metadata": {},
   "outputs": [
    {
     "name": "stdout",
     "output_type": "stream",
     "text": [
      "[0.         0.         0.         0.         0.         0.\n",
      " 0.         0.         0.         0.         0.         0.\n",
      " 0.         0.         0.         0.         0.         0.\n",
      " 0.         0.         0.         0.         0.         0.\n",
      " 0.         0.         0.         0.         0.         0.\n",
      " 0.         0.         0.         0.         0.         0.\n",
      " 0.         0.         0.         0.         0.         0.\n",
      " 0.         0.         0.         0.         0.         0.\n",
      " 0.         0.         0.         0.         0.         0.\n",
      " 0.         0.         0.         0.         0.         0.\n",
      " 0.         0.         0.         0.         0.         0.\n",
      " 0.         0.         0.         0.         0.         0.\n",
      " 0.         0.         0.         0.         0.         0.\n",
      " 0.         0.         0.         0.         0.         0.\n",
      " 0.         0.         0.         0.         0.         0.\n",
      " 0.         0.         0.         0.         0.         0.\n",
      " 0.         0.         0.         0.         0.         0.\n",
      " 0.         0.         0.         0.         0.         0.\n",
      " 0.         0.         0.         0.         0.         0.\n",
      " 0.         0.         0.         0.         0.         0.\n",
      " 0.         0.         0.         0.         0.         0.\n",
      " 0.         0.         0.         0.         0.         0.\n",
      " 0.         0.         0.         0.         0.         0.\n",
      " 0.         0.         0.         0.         0.         0.\n",
      " 0.         0.         0.         0.         0.         0.\n",
      " 0.         0.         0.         0.         0.         0.\n",
      " 0.         0.         0.         0.         0.         0.\n",
      " 0.         0.         0.         0.         0.         0.\n",
      " 0.         0.         0.         0.         0.         0.\n",
      " 0.         0.         0.         0.         0.         0.\n",
      " 0.         0.         0.         0.         0.         0.\n",
      " 0.         0.         0.         0.         0.         0.\n",
      " 0.         0.         0.         0.         0.         0.\n",
      " 0.         0.         0.         0.         0.32941176 0.7254902\n",
      " 0.62352941 0.59215686 0.23529412 0.14117647 0.         0.\n",
      " 0.         0.         0.         0.         0.         0.\n",
      " 0.         0.         0.         0.         0.         0.\n",
      " 0.         0.         0.         0.         0.         0.\n",
      " 0.         0.         0.87058824 0.99607843 0.99607843 0.99607843\n",
      " 0.99607843 0.94509804 0.77647059 0.77647059 0.77647059 0.77647059\n",
      " 0.77647059 0.77647059 0.77647059 0.77647059 0.66666667 0.20392157\n",
      " 0.         0.         0.         0.         0.         0.\n",
      " 0.         0.         0.         0.         0.         0.\n",
      " 0.2627451  0.44705882 0.28235294 0.44705882 0.63921569 0.89019608\n",
      " 0.99607843 0.88235294 0.99607843 0.99607843 0.99607843 0.98039216\n",
      " 0.89803922 0.99607843 0.99607843 0.54901961 0.         0.\n",
      " 0.         0.         0.         0.         0.         0.\n",
      " 0.         0.         0.         0.         0.         0.\n",
      " 0.         0.         0.         0.06666667 0.25882353 0.05490196\n",
      " 0.2627451  0.2627451  0.2627451  0.23137255 0.08235294 0.9254902\n",
      " 0.99607843 0.41568627 0.         0.         0.         0.\n",
      " 0.         0.         0.         0.         0.         0.\n",
      " 0.         0.         0.         0.         0.         0.\n",
      " 0.         0.         0.         0.         0.         0.\n",
      " 0.         0.         0.3254902  0.99215686 0.81960784 0.07058824\n",
      " 0.         0.         0.         0.         0.         0.\n",
      " 0.         0.         0.         0.         0.         0.\n",
      " 0.         0.         0.         0.         0.         0.\n",
      " 0.         0.         0.         0.         0.         0.08627451\n",
      " 0.91372549 1.         0.3254902  0.         0.         0.\n",
      " 0.         0.         0.         0.         0.         0.\n",
      " 0.         0.         0.         0.         0.         0.\n",
      " 0.         0.         0.         0.         0.         0.\n",
      " 0.         0.         0.         0.50588235 0.99607843 0.93333333\n",
      " 0.17254902 0.         0.         0.         0.         0.\n",
      " 0.         0.         0.         0.         0.         0.\n",
      " 0.         0.         0.         0.         0.         0.\n",
      " 0.         0.         0.         0.         0.         0.\n",
      " 0.23137255 0.97647059 0.99607843 0.24313725 0.         0.\n",
      " 0.         0.         0.         0.         0.         0.\n",
      " 0.         0.         0.         0.         0.         0.\n",
      " 0.         0.         0.         0.         0.         0.\n",
      " 0.         0.         0.         0.         0.52156863 0.99607843\n",
      " 0.73333333 0.01960784 0.         0.         0.         0.\n",
      " 0.         0.         0.         0.         0.         0.\n",
      " 0.         0.         0.         0.         0.         0.\n",
      " 0.         0.         0.         0.         0.         0.\n",
      " 0.         0.03529412 0.80392157 0.97254902 0.22745098 0.\n",
      " 0.         0.         0.         0.         0.         0.\n",
      " 0.         0.         0.         0.         0.         0.\n",
      " 0.         0.         0.         0.         0.         0.\n",
      " 0.         0.         0.         0.         0.         0.49411765\n",
      " 0.99607843 0.71372549 0.         0.         0.         0.\n",
      " 0.         0.         0.         0.         0.         0.\n",
      " 0.         0.         0.         0.         0.         0.\n",
      " 0.         0.         0.         0.         0.         0.\n",
      " 0.         0.         0.29411765 0.98431373 0.94117647 0.22352941\n",
      " 0.         0.         0.         0.         0.         0.\n",
      " 0.         0.         0.         0.         0.         0.\n",
      " 0.         0.         0.         0.         0.         0.\n",
      " 0.         0.         0.         0.         0.         0.0745098\n",
      " 0.86666667 0.99607843 0.65098039 0.         0.         0.\n",
      " 0.         0.         0.         0.         0.         0.\n",
      " 0.         0.         0.         0.         0.         0.\n",
      " 0.         0.         0.         0.         0.         0.\n",
      " 0.         0.         0.01176471 0.79607843 0.99607843 0.85882353\n",
      " 0.1372549  0.         0.         0.         0.         0.\n",
      " 0.         0.         0.         0.         0.         0.\n",
      " 0.         0.         0.         0.         0.         0.\n",
      " 0.         0.         0.         0.         0.         0.\n",
      " 0.14901961 0.99607843 0.99607843 0.30196078 0.         0.\n",
      " 0.         0.         0.         0.         0.         0.\n",
      " 0.         0.         0.         0.         0.         0.\n",
      " 0.         0.         0.         0.         0.         0.\n",
      " 0.         0.         0.         0.12156863 0.87843137 0.99607843\n",
      " 0.45098039 0.00392157 0.         0.         0.         0.\n",
      " 0.         0.         0.         0.         0.         0.\n",
      " 0.         0.         0.         0.         0.         0.\n",
      " 0.         0.         0.         0.         0.         0.\n",
      " 0.         0.52156863 0.99607843 0.99607843 0.20392157 0.\n",
      " 0.         0.         0.         0.         0.         0.\n",
      " 0.         0.         0.         0.         0.         0.\n",
      " 0.         0.         0.         0.         0.         0.\n",
      " 0.         0.         0.         0.         0.23921569 0.94901961\n",
      " 0.99607843 0.99607843 0.20392157 0.         0.         0.\n",
      " 0.         0.         0.         0.         0.         0.\n",
      " 0.         0.         0.         0.         0.         0.\n",
      " 0.         0.         0.         0.         0.         0.\n",
      " 0.         0.         0.4745098  0.99607843 0.99607843 0.85882353\n",
      " 0.15686275 0.         0.         0.         0.         0.\n",
      " 0.         0.         0.         0.         0.         0.\n",
      " 0.         0.         0.         0.         0.         0.\n",
      " 0.         0.         0.         0.         0.         0.\n",
      " 0.4745098  0.99607843 0.81176471 0.07058824 0.         0.\n",
      " 0.         0.         0.         0.         0.         0.\n",
      " 0.         0.         0.         0.         0.         0.\n",
      " 0.         0.         0.         0.         0.         0.\n",
      " 0.         0.         0.         0.         0.         0.\n",
      " 0.         0.         0.         0.         0.         0.\n",
      " 0.         0.         0.         0.         0.         0.\n",
      " 0.         0.         0.         0.        ]\n"
     ]
    }
   ],
   "source": [
    "print(X_test_flattened[0])"
   ]
  },
  {
   "cell_type": "code",
   "execution_count": 28,
   "id": "f7d138b0",
   "metadata": {},
   "outputs": [],
   "source": [
    "model = keras.Sequential(\n",
    "    [\n",
    "        keras.layers.Dense(100, activation=\"relu\", input_shape=(784,)),\n",
    "        keras.layers.Dense(10, activation='sigmoid'),\n",
    "    ]\n",
    ")"
   ]
  },
  {
   "cell_type": "code",
   "execution_count": 29,
   "id": "f2278798",
   "metadata": {},
   "outputs": [
    {
     "name": "stdout",
     "output_type": "stream",
     "text": [
      "Epoch 1/5\n",
      "1875/1875 [==============================] - 8s 4ms/step - loss: 0.2744 - accuracy: 0.9219\n",
      "Epoch 2/5\n",
      "1875/1875 [==============================] - 8s 4ms/step - loss: 0.1251 - accuracy: 0.9636\n",
      "Epoch 3/5\n",
      "1875/1875 [==============================] - 7s 4ms/step - loss: 0.0882 - accuracy: 0.9734\n",
      "Epoch 4/5\n",
      "1875/1875 [==============================] - 7s 4ms/step - loss: 0.0672 - accuracy: 0.9792\n",
      "Epoch 5/5\n",
      "1875/1875 [==============================] - 8s 4ms/step - loss: 0.0530 - accuracy: 0.9835\n"
     ]
    },
    {
     "data": {
      "text/plain": [
       "<keras.src.callbacks.History at 0x2d963c8c4c0>"
      ]
     },
     "execution_count": 29,
     "metadata": {},
     "output_type": "execute_result"
    }
   ],
   "source": [
    "model.compile(\n",
    "    optimizer='adam',\n",
    "    loss='sparse_categorical_crossentropy',\n",
    "    metrics=['accuracy']\n",
    ")\n",
    "model.fit(X_train_flattened , y_train , epochs=5)"
   ]
  },
  {
   "cell_type": "code",
   "execution_count": 30,
   "id": "5ac92d7f",
   "metadata": {},
   "outputs": [
    {
     "name": "stdout",
     "output_type": "stream",
     "text": [
      "313/313 [==============================] - 1s 3ms/step - loss: 0.0717 - accuracy: 0.9774\n"
     ]
    },
    {
     "data": {
      "text/plain": [
       "[0.07173149287700653, 0.977400004863739]"
      ]
     },
     "execution_count": 30,
     "metadata": {},
     "output_type": "execute_result"
    }
   ],
   "source": [
    "model.evaluate(X_test_flattened,y_test)"
   ]
  },
  {
   "cell_type": "markdown",
   "id": "d9f1835e",
   "metadata": {},
   "source": [
    "### Testing with a sample Data ......... Letssss gooooooooooo"
   ]
  },
  {
   "cell_type": "code",
   "execution_count": 76,
   "id": "7c4a3d08",
   "metadata": {},
   "outputs": [],
   "source": [
    "def LOAD_IMAGE(img_path):\n",
    "    image_list = []\n",
    "    image_size=(28,28)\n",
    "    img = Image.open(img_path)\n",
    "    gray_img = img.convert(\"L\")\n",
    "    img = gray_img.resize(image_size)\n",
    "    img_array = np.array(img)\n",
    "    image_list.append(img_array)\n",
    "    return np.array(image_list)"
   ]
  },
  {
   "cell_type": "code",
   "execution_count": 77,
   "id": "57abbb6a",
   "metadata": {},
   "outputs": [],
   "source": [
    "def convert_pixel_range(image_data):\n",
    "        normalized_image_data = (image_data * 255).astype(np.uint8)\n",
    "        return normalized_image_data"
   ]
  },
  {
   "cell_type": "code",
   "execution_count": 137,
   "id": "5446d608",
   "metadata": {},
   "outputs": [],
   "source": [
    "Image_path =[\"./images/3.jpg\",\"./images/2.png\",\"./images/5.png\",\"./images/1.png\"]\n",
    "image_list=[]\n",
    "for path in Image_path:\n",
    "    Load_image = LOAD_IMAGE(path)\n",
    "    Pixeled_Image = convert_pixel_range(Load_image)\n",
    "    image_list.append(Pixeled_Image)    "
   ]
  },
  {
   "cell_type": "code",
   "execution_count": 138,
   "id": "1a220a6c",
   "metadata": {},
   "outputs": [],
   "source": [
    "images_sample = np.array(image_list)"
   ]
  },
  {
   "cell_type": "code",
   "execution_count": 139,
   "id": "7d7ec063",
   "metadata": {},
   "outputs": [
    {
     "name": "stdout",
     "output_type": "stream",
     "text": [
      "(4, 1, 28, 28)\n"
     ]
    }
   ],
   "source": [
    "print(images_sample.shape)"
   ]
  },
  {
   "cell_type": "code",
   "execution_count": 140,
   "id": "1df18956",
   "metadata": {},
   "outputs": [
    {
     "name": "stdout",
     "output_type": "stream",
     "text": [
      "[[[  1   1   1   1   1   1   1   1   1   1   1   1   1   1   2   1   3\n",
      "    25  28  25   4   1   1   1   1   1   1   1]\n",
      "  [  1   1   1   1   1   1   1   1   1   1   1   1   1   1   1  29 115\n",
      "   146 147 146 115  56  10   2   1   1   1   1]\n",
      "  [  1   1   1   1   1   1   1   1   1   1   1   1   1   2  52 135 160\n",
      "   155 155 155 158 163  61   1   1   1   1   1]\n",
      "  [  1   1   1   1   1   1   1   1   1   1   1   1  35 108 156 157 154\n",
      "   154 154 154 158 130  19   1   1   1   1   1]\n",
      "  [  1   1   1   1   1   1   1   2  24  33  52 102 149 159 154 154 154\n",
      "   154 153 154 153  46   1   1   1   1   1   1]\n",
      "  [  1   1   1   1   1   1   1   1  65 154 159 158 155 154 154 154 154\n",
      "   154 154 159 112   2   1   1   1   1   1   1]\n",
      "  [  1   1   1   1   1   1   1   2   2  72 147 160 159 157 154 154 154\n",
      "   154 154 157  52   1   1   1   1   1   1   1]\n",
      "  [  1   1   1   1   1   1   1   1   1   1  27  73 106 125 153 153 154\n",
      "   153 156 130   8   1   1   1   1   1   1   1]\n",
      "  [  1   1   1   1   1   1   1   1   1   1   1   1   1  54 156 154 154\n",
      "   154 160  78   1   1   1   1   1   1   1   1]\n",
      "  [  1   1   1   1   1   1   1   1   1   1   1   1   2 102 159 154 154\n",
      "   156 144  23   1   1   1   1   1   1   1   1]\n",
      "  [  1   1   1   1   1   1   1   1   1   1   1   1  19 142 156 154 153\n",
      "   159  93   1   3   1   1   1   1   1   1   1]\n",
      "  [  1   1   1   1   1   1   1   1   1   1   1   1  56 156 154 154 155\n",
      "   150  31   1   1   1   1   1   1   1   1   1]\n",
      "  [  1   1   1   1   1   1   1   1   1   1   1   1 106 158 154 154 159\n",
      "   111   2   1   1   1   1   1   1   1   1   1]\n",
      "  [  1   1   1   1   1   1   1   1   1   2   1  23 143 155 154 154 158\n",
      "    62   1   1   1   1   1   1   1   1   1   1]\n",
      "  [  1   1   1   1   1   1   1   1   1   2   1  74 159 154 154 156 142\n",
      "    21   1   1   1   1   1   1   1   1   1   1]\n",
      "  [  1   1   1   1   1   1   1   1   1   1   8 126 157 154 154 159 105\n",
      "     1   2   1   1   1   1   1   1   1   1   1]\n",
      "  [  1   1   1   1   1   1   1   1   1   1  49 157 154 154 154 156  54\n",
      "     1   2   1   1   1   1   1   1   1   1   1]\n",
      "  [  1   1   1   1   1   1   1   1   1   1 107 159 154 154 157 131  11\n",
      "     1   1   1   1   1   1   1   1   1   1   1]\n",
      "  [  1   1   1   1   1   1   1   2   1  27 147 155 154 154 160  85   1\n",
      "     1   1   1   1   1   1   1   1   1   1   1]\n",
      "  [  1   1   1   1   1   1   1   2   1  90 160 153 153 154 151  36   1\n",
      "     1   1   1   1   1   1   1   1   1   1   1]\n",
      "  [  1   1   1   1   1   1   1   1  28 146 155 153 154 157 128   8   1\n",
      "     1   1   1   1   1   1   1   1   1   1   1]\n",
      "  [  1   1   1   1   1   1   1  13 114 159 154 153 153 159  93   1   1\n",
      "     1   1   1   1   1   1   1   1   1   1   1]\n",
      "  [  1   1   1   1   1   2   1  41 156 154 154 154 154 157  59   1   2\n",
      "     1   1   1   1   1   1   1   1   1   1   1]\n",
      "  [  1   1   1   1   1   1   1  50 158 154 153 154 155 146  26   1   1\n",
      "     1   1   1   1   1   1   1   1   1   1   1]\n",
      "  [  1   1   1   1   1   1   1  22 133 160 158 155 162 129   8   1   1\n",
      "     1   1   1   1   1   1   1   1   1   1   1]\n",
      "  [  1   1   1   1   1   1   1   1  18  64 111 146 124  49   1   1   1\n",
      "     1   1   1   1   1   1   1   1   1   1   1]\n",
      "  [  1   1   1   1   1   1   1   1   1   1   2  22   7   1   1   1   1\n",
      "     1   1   1   1   1   1   1   1   1   1   1]\n",
      "  [  1   1   1   1   1   1   1   1   1   1   1   1   1   1   1   1   1\n",
      "     1   1   1   1   1   1   1   1   1   1   1]]]\n"
     ]
    }
   ],
   "source": [
    "print(images_sample[3])"
   ]
  },
  {
   "cell_type": "code",
   "execution_count": 141,
   "id": "b7c5753c",
   "metadata": {},
   "outputs": [
    {
     "name": "stdout",
     "output_type": "stream",
     "text": [
      "(4, 784)\n"
     ]
    }
   ],
   "source": [
    "images_sample_flatten = images_sample.reshape(len(images_sample),28*28)\n",
    "print(images_sample_flatten.shape)"
   ]
  },
  {
   "cell_type": "code",
   "execution_count": 142,
   "id": "aeca530e",
   "metadata": {},
   "outputs": [],
   "source": [
    "images_sample_flatten = images_sample_flatten/255"
   ]
  },
  {
   "cell_type": "code",
   "execution_count": 143,
   "id": "da008d8f",
   "metadata": {},
   "outputs": [],
   "source": [
    "images_sample_flatten[0]=images_sample_flatten[0].flatten()\n",
    "images_sample_flatten[1]=images_sample_flatten[1].flatten()\n",
    "images_sample_flatten[2]=images_sample_flatten[2].flatten()"
   ]
  },
  {
   "cell_type": "code",
   "execution_count": 144,
   "id": "10b93867",
   "metadata": {},
   "outputs": [
    {
     "ename": "IndexError",
     "evalue": "index 4 is out of bounds for axis 0 with size 4",
     "output_type": "error",
     "traceback": [
      "\u001b[1;31m---------------------------------------------------------------------------\u001b[0m",
      "\u001b[1;31mIndexError\u001b[0m                                Traceback (most recent call last)",
      "Cell \u001b[1;32mIn[144], line 2\u001b[0m\n\u001b[0;32m      1\u001b[0m images_sample_flatten[\u001b[38;5;241m3\u001b[39m]\u001b[38;5;241m=\u001b[39mimages_sample_flatten[\u001b[38;5;241m3\u001b[39m]\u001b[38;5;241m.\u001b[39mflatten()\n\u001b[1;32m----> 2\u001b[0m images_sample_flatten[\u001b[38;5;241m4\u001b[39m]\u001b[38;5;241m=\u001b[39m\u001b[43mimages_sample_flatten\u001b[49m\u001b[43m[\u001b[49m\u001b[38;5;241;43m4\u001b[39;49m\u001b[43m]\u001b[49m\u001b[38;5;241m.\u001b[39mflatten()\n",
      "\u001b[1;31mIndexError\u001b[0m: index 4 is out of bounds for axis 0 with size 4"
     ]
    }
   ],
   "source": [
    "images_sample_flatten[3]=images_sample_flatten[3].flatten()"
   ]
  },
  {
   "cell_type": "code",
   "execution_count": 145,
   "id": "d2412295",
   "metadata": {},
   "outputs": [
    {
     "name": "stdout",
     "output_type": "stream",
     "text": [
      "[0.00392157 0.00392157 0.00392157 0.00392157 0.00392157 0.00392157\n",
      " 0.00392157 0.00392157 0.00392157 0.00392157 0.00392157 0.00392157\n",
      " 0.00392157 0.00392157 0.00784314 0.00392157 0.01176471 0.09803922\n",
      " 0.10980392 0.09803922 0.01568627 0.00392157 0.00392157 0.00392157\n",
      " 0.00392157 0.00392157 0.00392157 0.00392157 0.00392157 0.00392157\n",
      " 0.00392157 0.00392157 0.00392157 0.00392157 0.00392157 0.00392157\n",
      " 0.00392157 0.00392157 0.00392157 0.00392157 0.00392157 0.00392157\n",
      " 0.00392157 0.11372549 0.45098039 0.57254902 0.57647059 0.57254902\n",
      " 0.45098039 0.21960784 0.03921569 0.00784314 0.00392157 0.00392157\n",
      " 0.00392157 0.00392157 0.00392157 0.00392157 0.00392157 0.00392157\n",
      " 0.00392157 0.00392157 0.00392157 0.00392157 0.00392157 0.00392157\n",
      " 0.00392157 0.00392157 0.00392157 0.00784314 0.20392157 0.52941176\n",
      " 0.62745098 0.60784314 0.60784314 0.60784314 0.61960784 0.63921569\n",
      " 0.23921569 0.00392157 0.00392157 0.00392157 0.00392157 0.00392157\n",
      " 0.00392157 0.00392157 0.00392157 0.00392157 0.00392157 0.00392157\n",
      " 0.00392157 0.00392157 0.00392157 0.00392157 0.00392157 0.00392157\n",
      " 0.1372549  0.42352941 0.61176471 0.61568627 0.60392157 0.60392157\n",
      " 0.60392157 0.60392157 0.61960784 0.50980392 0.0745098  0.00392157\n",
      " 0.00392157 0.00392157 0.00392157 0.00392157 0.00392157 0.00392157\n",
      " 0.00392157 0.00392157 0.00392157 0.00392157 0.00392157 0.00784314\n",
      " 0.09411765 0.12941176 0.20392157 0.4        0.58431373 0.62352941\n",
      " 0.60392157 0.60392157 0.60392157 0.60392157 0.6        0.60392157\n",
      " 0.6        0.18039216 0.00392157 0.00392157 0.00392157 0.00392157\n",
      " 0.00392157 0.00392157 0.00392157 0.00392157 0.00392157 0.00392157\n",
      " 0.00392157 0.00392157 0.00392157 0.00392157 0.25490196 0.60392157\n",
      " 0.62352941 0.61960784 0.60784314 0.60392157 0.60392157 0.60392157\n",
      " 0.60392157 0.60392157 0.60392157 0.62352941 0.43921569 0.00784314\n",
      " 0.00392157 0.00392157 0.00392157 0.00392157 0.00392157 0.00392157\n",
      " 0.00392157 0.00392157 0.00392157 0.00392157 0.00392157 0.00392157\n",
      " 0.00392157 0.00784314 0.00784314 0.28235294 0.57647059 0.62745098\n",
      " 0.62352941 0.61568627 0.60392157 0.60392157 0.60392157 0.60392157\n",
      " 0.60392157 0.61568627 0.20392157 0.00392157 0.00392157 0.00392157\n",
      " 0.00392157 0.00392157 0.00392157 0.00392157 0.00392157 0.00392157\n",
      " 0.00392157 0.00392157 0.00392157 0.00392157 0.00392157 0.00392157\n",
      " 0.00392157 0.00392157 0.10588235 0.28627451 0.41568627 0.49019608\n",
      " 0.6        0.6        0.60392157 0.6        0.61176471 0.50980392\n",
      " 0.03137255 0.00392157 0.00392157 0.00392157 0.00392157 0.00392157\n",
      " 0.00392157 0.00392157 0.00392157 0.00392157 0.00392157 0.00392157\n",
      " 0.00392157 0.00392157 0.00392157 0.00392157 0.00392157 0.00392157\n",
      " 0.00392157 0.00392157 0.00392157 0.21176471 0.61176471 0.60392157\n",
      " 0.60392157 0.60392157 0.62745098 0.30588235 0.00392157 0.00392157\n",
      " 0.00392157 0.00392157 0.00392157 0.00392157 0.00392157 0.00392157\n",
      " 0.00392157 0.00392157 0.00392157 0.00392157 0.00392157 0.00392157\n",
      " 0.00392157 0.00392157 0.00392157 0.00392157 0.00392157 0.00392157\n",
      " 0.00784314 0.4        0.62352941 0.60392157 0.60392157 0.61176471\n",
      " 0.56470588 0.09019608 0.00392157 0.00392157 0.00392157 0.00392157\n",
      " 0.00392157 0.00392157 0.00392157 0.00392157 0.00392157 0.00392157\n",
      " 0.00392157 0.00392157 0.00392157 0.00392157 0.00392157 0.00392157\n",
      " 0.00392157 0.00392157 0.00392157 0.00392157 0.0745098  0.55686275\n",
      " 0.61176471 0.60392157 0.6        0.62352941 0.36470588 0.00392157\n",
      " 0.01176471 0.00392157 0.00392157 0.00392157 0.00392157 0.00392157\n",
      " 0.00392157 0.00392157 0.00392157 0.00392157 0.00392157 0.00392157\n",
      " 0.00392157 0.00392157 0.00392157 0.00392157 0.00392157 0.00392157\n",
      " 0.00392157 0.00392157 0.21960784 0.61176471 0.60392157 0.60392157\n",
      " 0.60784314 0.58823529 0.12156863 0.00392157 0.00392157 0.00392157\n",
      " 0.00392157 0.00392157 0.00392157 0.00392157 0.00392157 0.00392157\n",
      " 0.00392157 0.00392157 0.00392157 0.00392157 0.00392157 0.00392157\n",
      " 0.00392157 0.00392157 0.00392157 0.00392157 0.00392157 0.00392157\n",
      " 0.41568627 0.61960784 0.60392157 0.60392157 0.62352941 0.43529412\n",
      " 0.00784314 0.00392157 0.00392157 0.00392157 0.00392157 0.00392157\n",
      " 0.00392157 0.00392157 0.00392157 0.00392157 0.00392157 0.00392157\n",
      " 0.00392157 0.00392157 0.00392157 0.00392157 0.00392157 0.00392157\n",
      " 0.00392157 0.00784314 0.00392157 0.09019608 0.56078431 0.60784314\n",
      " 0.60392157 0.60392157 0.61960784 0.24313725 0.00392157 0.00392157\n",
      " 0.00392157 0.00392157 0.00392157 0.00392157 0.00392157 0.00392157\n",
      " 0.00392157 0.00392157 0.00392157 0.00392157 0.00392157 0.00392157\n",
      " 0.00392157 0.00392157 0.00392157 0.00392157 0.00392157 0.00784314\n",
      " 0.00392157 0.29019608 0.62352941 0.60392157 0.60392157 0.61176471\n",
      " 0.55686275 0.08235294 0.00392157 0.00392157 0.00392157 0.00392157\n",
      " 0.00392157 0.00392157 0.00392157 0.00392157 0.00392157 0.00392157\n",
      " 0.00392157 0.00392157 0.00392157 0.00392157 0.00392157 0.00392157\n",
      " 0.00392157 0.00392157 0.00392157 0.00392157 0.03137255 0.49411765\n",
      " 0.61568627 0.60392157 0.60392157 0.62352941 0.41176471 0.00392157\n",
      " 0.00784314 0.00392157 0.00392157 0.00392157 0.00392157 0.00392157\n",
      " 0.00392157 0.00392157 0.00392157 0.00392157 0.00392157 0.00392157\n",
      " 0.00392157 0.00392157 0.00392157 0.00392157 0.00392157 0.00392157\n",
      " 0.00392157 0.00392157 0.19215686 0.61568627 0.60392157 0.60392157\n",
      " 0.60392157 0.61176471 0.21176471 0.00392157 0.00784314 0.00392157\n",
      " 0.00392157 0.00392157 0.00392157 0.00392157 0.00392157 0.00392157\n",
      " 0.00392157 0.00392157 0.00392157 0.00392157 0.00392157 0.00392157\n",
      " 0.00392157 0.00392157 0.00392157 0.00392157 0.00392157 0.00392157\n",
      " 0.41960784 0.62352941 0.60392157 0.60392157 0.61568627 0.51372549\n",
      " 0.04313725 0.00392157 0.00392157 0.00392157 0.00392157 0.00392157\n",
      " 0.00392157 0.00392157 0.00392157 0.00392157 0.00392157 0.00392157\n",
      " 0.00392157 0.00392157 0.00392157 0.00392157 0.00392157 0.00392157\n",
      " 0.00392157 0.00784314 0.00392157 0.10588235 0.57647059 0.60784314\n",
      " 0.60392157 0.60392157 0.62745098 0.33333333 0.00392157 0.00392157\n",
      " 0.00392157 0.00392157 0.00392157 0.00392157 0.00392157 0.00392157\n",
      " 0.00392157 0.00392157 0.00392157 0.00392157 0.00392157 0.00392157\n",
      " 0.00392157 0.00392157 0.00392157 0.00392157 0.00392157 0.00784314\n",
      " 0.00392157 0.35294118 0.62745098 0.6        0.6        0.60392157\n",
      " 0.59215686 0.14117647 0.00392157 0.00392157 0.00392157 0.00392157\n",
      " 0.00392157 0.00392157 0.00392157 0.00392157 0.00392157 0.00392157\n",
      " 0.00392157 0.00392157 0.00392157 0.00392157 0.00392157 0.00392157\n",
      " 0.00392157 0.00392157 0.00392157 0.00392157 0.10980392 0.57254902\n",
      " 0.60784314 0.6        0.60392157 0.61568627 0.50196078 0.03137255\n",
      " 0.00392157 0.00392157 0.00392157 0.00392157 0.00392157 0.00392157\n",
      " 0.00392157 0.00392157 0.00392157 0.00392157 0.00392157 0.00392157\n",
      " 0.00392157 0.00392157 0.00392157 0.00392157 0.00392157 0.00392157\n",
      " 0.00392157 0.05098039 0.44705882 0.62352941 0.60392157 0.6\n",
      " 0.6        0.62352941 0.36470588 0.00392157 0.00392157 0.00392157\n",
      " 0.00392157 0.00392157 0.00392157 0.00392157 0.00392157 0.00392157\n",
      " 0.00392157 0.00392157 0.00392157 0.00392157 0.00392157 0.00392157\n",
      " 0.00392157 0.00392157 0.00392157 0.00784314 0.00392157 0.16078431\n",
      " 0.61176471 0.60392157 0.60392157 0.60392157 0.60392157 0.61568627\n",
      " 0.23137255 0.00392157 0.00784314 0.00392157 0.00392157 0.00392157\n",
      " 0.00392157 0.00392157 0.00392157 0.00392157 0.00392157 0.00392157\n",
      " 0.00392157 0.00392157 0.00392157 0.00392157 0.00392157 0.00392157\n",
      " 0.00392157 0.00392157 0.00392157 0.19607843 0.61960784 0.60392157\n",
      " 0.6        0.60392157 0.60784314 0.57254902 0.10196078 0.00392157\n",
      " 0.00392157 0.00392157 0.00392157 0.00392157 0.00392157 0.00392157\n",
      " 0.00392157 0.00392157 0.00392157 0.00392157 0.00392157 0.00392157\n",
      " 0.00392157 0.00392157 0.00392157 0.00392157 0.00392157 0.00392157\n",
      " 0.00392157 0.08627451 0.52156863 0.62745098 0.61960784 0.60784314\n",
      " 0.63529412 0.50588235 0.03137255 0.00392157 0.00392157 0.00392157\n",
      " 0.00392157 0.00392157 0.00392157 0.00392157 0.00392157 0.00392157\n",
      " 0.00392157 0.00392157 0.00392157 0.00392157 0.00392157 0.00392157\n",
      " 0.00392157 0.00392157 0.00392157 0.00392157 0.00392157 0.00392157\n",
      " 0.07058824 0.25098039 0.43529412 0.57254902 0.48627451 0.19215686\n",
      " 0.00392157 0.00392157 0.00392157 0.00392157 0.00392157 0.00392157\n",
      " 0.00392157 0.00392157 0.00392157 0.00392157 0.00392157 0.00392157\n",
      " 0.00392157 0.00392157 0.00392157 0.00392157 0.00392157 0.00392157\n",
      " 0.00392157 0.00392157 0.00392157 0.00392157 0.00392157 0.00392157\n",
      " 0.00784314 0.08627451 0.02745098 0.00392157 0.00392157 0.00392157\n",
      " 0.00392157 0.00392157 0.00392157 0.00392157 0.00392157 0.00392157\n",
      " 0.00392157 0.00392157 0.00392157 0.00392157 0.00392157 0.00392157\n",
      " 0.00392157 0.00392157 0.00392157 0.00392157 0.00392157 0.00392157\n",
      " 0.00392157 0.00392157 0.00392157 0.00392157 0.00392157 0.00392157\n",
      " 0.00392157 0.00392157 0.00392157 0.00392157 0.00392157 0.00392157\n",
      " 0.00392157 0.00392157 0.00392157 0.00392157 0.00392157 0.00392157\n",
      " 0.00392157 0.00392157 0.00392157 0.00392157]\n"
     ]
    }
   ],
   "source": [
    "print(images_sample_flatten[3])"
   ]
  },
  {
   "cell_type": "code",
   "execution_count": 150,
   "id": "2412155b",
   "metadata": {
    "scrolled": true
   },
   "outputs": [
    {
     "data": {
      "text/plain": [
       "<matplotlib.image.AxesImage at 0x2d9095207c0>"
      ]
     },
     "execution_count": 150,
     "metadata": {},
     "output_type": "execute_result"
    },
    {
     "data": {
      "image/png": "[encoded data removed]",
      "text/plain": [
       "<Figure size 480x480 with 1 Axes>"
      ]
     },
     "metadata": {},
     "output_type": "display_data"
    }
   ],
   "source": [
    "plt.matshow(images_sample[2][0])"
   ]
  },
  {
   "cell_type": "code",
   "execution_count": 151,
   "id": "323131bd",
   "metadata": {},
   "outputs": [
    {
     "name": "stdout",
     "output_type": "stream",
     "text": [
      "1/1 [==============================] - 0s 43ms/step\n",
      "The Predicted value is : 5\n"
     ]
    }
   ],
   "source": [
    "predictions = model.predict(images_sample_flatten)\n",
    "predicted_class_index = np.argmax(predictions[2])\n",
    "print(\"The Predicted value is :\", predicted_class_index)"
   ]
  },
  {
   "cell_type": "code",
   "execution_count": null,
   "id": "c22fd366",
   "metadata": {},
   "outputs": [],
   "source": []
  }
 ],
 "metadata": {
  "kernelspec": {
   "display_name": "Python 3 (ipykernel)",
   "language": "python",
   "name": "python3"
  },
  "language_info": {
   "codemirror_mode": {
    "name": "ipython",
    "version": 3
   },
   "file_extension": ".py",
   "mimetype": "text/x-python",
   "name": "python",
   "nbconvert_exporter": "python",
   "pygments_lexer": "ipython3",
   "version": "3.10.6"
  }
 },
 "nbformat": 4,
 "nbformat_minor": 5
}
